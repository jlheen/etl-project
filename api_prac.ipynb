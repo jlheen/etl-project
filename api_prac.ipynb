{
 "cells": [
  {
   "cell_type": "code",
   "execution_count": 14,
   "metadata": {},
   "outputs": [],
   "source": [
    "import requests\n",
    "import pandas as pd\n",
    "# from config import api_key\n",
    "import json\n",
    "from pprint import pprint"
   ]
  },
  {
   "cell_type": "code",
   "execution_count": 15,
   "metadata": {},
   "outputs": [],
   "source": [
    "isbn_1 = '0439785960'"
   ]
  },
  {
   "cell_type": "code",
   "execution_count": 65,
   "metadata": {},
   "outputs": [],
   "source": [
    "isbn_2 = '9780439785969'"
   ]
  },
  {
   "cell_type": "code",
   "execution_count": 16,
   "metadata": {},
   "outputs": [],
   "source": [
    "url = 'https://openlibrary.org/api/books?'"
   ]
  },
  {
   "cell_type": "code",
   "execution_count": 24,
   "metadata": {},
   "outputs": [],
   "source": [
    "# https://www.googleapis.com/books/v1/volumes?q=flowers+inauthor:keyes&key=yourAPIKey\n",
    "for book in isbn_list:\n",
    "    \n",
    "    query = f'{url}bibkeys=ISBN:{book}&format=json'\n",
    "    "
   ]
  },
  {
   "cell_type": "code",
   "execution_count": 25,
   "metadata": {},
   "outputs": [],
   "source": [
    "response = requests.get(query)"
   ]
  },
  {
   "cell_type": "code",
   "execution_count": 26,
   "metadata": {},
   "outputs": [
    {
     "name": "stdout",
     "output_type": "stream",
     "text": [
      "<Response [200]>\n"
     ]
    }
   ],
   "source": [
    "print(response)"
   ]
  },
  {
   "cell_type": "code",
   "execution_count": 28,
   "metadata": {},
   "outputs": [
    {
     "data": {
      "text/plain": [
       "{'ISBN:0439785960': {'bib_key': 'ISBN:0439785960',\n",
       "  'preview': 'restricted',\n",
       "  'thumbnail_url': 'https://covers.openlibrary.org/b/id/9326654-S.jpg',\n",
       "  'preview_url': 'https://archive.org/details/harrypotterhalfb2005rowl',\n",
       "  'info_url': 'https://openlibrary.org/books/OL24280830M/Harry_Potter_and_the_Half-Blood_Prince'}}"
      ]
     },
     "execution_count": 28,
     "metadata": {},
     "output_type": "execute_result"
    }
   ],
   "source": [
    "response.json()"
   ]
  },
  {
   "cell_type": "code",
   "execution_count": 29,
   "metadata": {
    "scrolled": true
   },
   "outputs": [],
   "source": [
    "books = response.json()"
   ]
  },
  {
   "cell_type": "code",
   "execution_count": 30,
   "metadata": {
    "scrolled": true
   },
   "outputs": [
    {
     "name": "stdout",
     "output_type": "stream",
     "text": [
      "{'ISBN:0439785960': {'bib_key': 'ISBN:0439785960',\n",
      "                     'info_url': 'https://openlibrary.org/books/OL24280830M/Harry_Potter_and_the_Half-Blood_Prince',\n",
      "                     'preview': 'restricted',\n",
      "                     'preview_url': 'https://archive.org/details/harrypotterhalfb2005rowl',\n",
      "                     'thumbnail_url': 'https://covers.openlibrary.org/b/id/9326654-S.jpg'}}\n"
     ]
    }
   ],
   "source": [
    "pprint(books)"
   ]
  },
  {
   "cell_type": "code",
   "execution_count": 31,
   "metadata": {},
   "outputs": [
    {
     "data": {
      "text/plain": [
       "'https://openlibrary.org/books/OL24280830M/Harry_Potter_and_the_Half-Blood_Prince'"
      ]
     },
     "execution_count": 31,
     "metadata": {},
     "output_type": "execute_result"
    }
   ],
   "source": [
    "books['ISBN:0439785960']['info_url']"
   ]
  },
  {
   "cell_type": "code",
   "execution_count": 64,
   "metadata": {
    "scrolled": true
   },
   "outputs": [
    {
     "name": "stdout",
     "output_type": "stream",
     "text": [
      "The Noisy Paint Box\n"
     ]
    }
   ],
   "source": [
    "title_1 = books['items'][0][\"volumeInfo\"][\"title\"]\n",
    "print(title_1)"
   ]
  },
  {
   "cell_type": "code",
   "execution_count": 41,
   "metadata": {},
   "outputs": [
    {
     "name": "stdout",
     "output_type": "stream",
     "text": [
      "{'country': 'US', 'saleability': 'NOT_FOR_SALE', 'isEbook': False}\n"
     ]
    }
   ],
   "source": [
    "price = books['items'][0]['saleInfo']\n",
    "print(price)"
   ]
  },
  {
   "cell_type": "code",
   "execution_count": null,
   "metadata": {},
   "outputs": [],
   "source": [
    "list_prices = []\n",
    "rt_prices = []\n",
    "Buy_link=[]\n",
    "# loop through ISBN list, make requests and parse\n",
    "for isbn in isbns:\n",
    "\ttarget_url=base_url+isbn\n",
    "\treponse=requests.get(target+url).json()\n",
    "        list_prices.append(reponse[0]['saleInfo']['listPrice']['amount'])\n",
    "        re_prices.append(reponse[0]['retailPrice']['amount'])"
   ]
  }
 ],
 "metadata": {
  "kernelspec": {
   "display_name": "Python 3.7.4 64-bit ('anaconda3': virtualenv)",
   "language": "python",
   "name": "python37464bitanaconda3virtualenvf91fde15fee24865809b849161d4b1f9"
  },
  "language_info": {
   "codemirror_mode": {
    "name": "ipython",
    "version": 3
   },
   "file_extension": ".py",
   "mimetype": "text/x-python",
   "name": "python",
   "nbconvert_exporter": "python",
   "pygments_lexer": "ipython3",
   "version": "3.7.4"
  }
 },
 "nbformat": 4,
 "nbformat_minor": 2
}
