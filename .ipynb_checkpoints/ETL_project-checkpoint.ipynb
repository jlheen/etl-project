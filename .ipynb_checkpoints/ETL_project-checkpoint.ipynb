{
 "cells": [
  {
   "cell_type": "markdown",
   "metadata": {},
   "source": [
    "## ETL Project\n",
    "By: Jade T. and Jodi H.\n",
    "## Project Goals:  Extracting Data, Transforming It, and Loading Into a Database"
   ]
  },
  {
   "cell_type": "markdown",
   "metadata": {},
   "source": [
    "## First Dataset: Goodreads CSV\n",
    "We are grateful for this clean and organized dataset! Here's a little information about where to find it and what it's creator intended:  \n",
    " kaggle source url:  https://www.kaggle.com/jealousleopard/goodreadsbooks\n",
    " author description:  \"The primary reason for creating this dataset is the requirement of a good clean dataset of books...This prompted me to use the Goodreads API to get a well-cleaned dataset, with the promising features only ( minus the redundant ones ), and the result is the dataset you're at now.\""
   ]
  },
  {
   "cell_type": "code",
   "execution_count": null,
   "metadata": {},
   "outputs": [],
   "source": [
    "# Import packages\n",
    "import pandas as pd\n",
    "import requests\n",
    "import json\n",
    "from pprint import pprint\n",
    "import itertools"
   ]
  },
  {
   "cell_type": "markdown",
   "metadata": {},
   "source": [
    "#### Extraction\n",
    "Extracting this database was simple. We downloaded the csv file from the Kaggle website and read it into a Pandas dataframe."
   ]
  },
  {
   "cell_type": "code",
   "execution_count": 17,
   "metadata": {},
   "outputs": [],
   "source": [
    "# Read in Goodreads CSV data\n",
    "file = 'books.csv'\n",
    "bookpd_df = pd.read_csv(file)"
   ]
  },
  {
   "cell_type": "code",
   "execution_count": 21,
   "metadata": {
    "scrolled": true
   },
   "outputs": [
    {
     "data": {
      "text/html": [
       "<div>\n",
       "<style scoped>\n",
       "    .dataframe tbody tr th:only-of-type {\n",
       "        vertical-align: middle;\n",
       "    }\n",
       "\n",
       "    .dataframe tbody tr th {\n",
       "        vertical-align: top;\n",
       "    }\n",
       "\n",
       "    .dataframe thead th {\n",
       "        text-align: right;\n",
       "    }\n",
       "</style>\n",
       "<table border=\"1\" class=\"dataframe\">\n",
       "  <thead>\n",
       "    <tr style=\"text-align: right;\">\n",
       "      <th></th>\n",
       "      <th>bookID</th>\n",
       "      <th>title</th>\n",
       "      <th>authors</th>\n",
       "      <th>average_rating</th>\n",
       "      <th>isbn</th>\n",
       "      <th>isbn13</th>\n",
       "      <th>language_code</th>\n",
       "      <th># num_pages</th>\n",
       "      <th>ratings_count</th>\n",
       "      <th>text_reviews_count</th>\n",
       "    </tr>\n",
       "  </thead>\n",
       "  <tbody>\n",
       "    <tr>\n",
       "      <td>0</td>\n",
       "      <td>1</td>\n",
       "      <td>Harry Potter and the Half-Blood Prince (Harry ...</td>\n",
       "      <td>J.K. Rowling-Mary GrandPré</td>\n",
       "      <td>4.56</td>\n",
       "      <td>0439785960</td>\n",
       "      <td>9780439785969</td>\n",
       "      <td>eng</td>\n",
       "      <td>652</td>\n",
       "      <td>1944099</td>\n",
       "      <td>26249</td>\n",
       "    </tr>\n",
       "    <tr>\n",
       "      <td>1</td>\n",
       "      <td>2</td>\n",
       "      <td>Harry Potter and the Order of the Phoenix (Har...</td>\n",
       "      <td>J.K. Rowling-Mary GrandPré</td>\n",
       "      <td>4.49</td>\n",
       "      <td>0439358078</td>\n",
       "      <td>9780439358071</td>\n",
       "      <td>eng</td>\n",
       "      <td>870</td>\n",
       "      <td>1996446</td>\n",
       "      <td>27613</td>\n",
       "    </tr>\n",
       "  </tbody>\n",
       "</table>\n",
       "</div>"
      ],
      "text/plain": [
       "   bookID                                              title  \\\n",
       "0       1  Harry Potter and the Half-Blood Prince (Harry ...   \n",
       "1       2  Harry Potter and the Order of the Phoenix (Har...   \n",
       "\n",
       "                      authors  average_rating        isbn         isbn13  \\\n",
       "0  J.K. Rowling-Mary GrandPré            4.56  0439785960  9780439785969   \n",
       "1  J.K. Rowling-Mary GrandPré            4.49  0439358078  9780439358071   \n",
       "\n",
       "  language_code  # num_pages  ratings_count  text_reviews_count  \n",
       "0           eng          652        1944099               26249  \n",
       "1           eng          870        1996446               27613  "
      ]
     },
     "execution_count": 21,
     "metadata": {},
     "output_type": "execute_result"
    }
   ],
   "source": [
    "# Read the csv into a pandas dataframe\n",
    "# Print the first two lines to see the data and ensure it loaded correctly\n",
    "bookpd_df.head(2)"
   ]
  },
  {
   "cell_type": "markdown",
   "metadata": {},
   "source": [
    "#### Transform\n",
    "We transformed this data by jettisoning the columns that did not seem necessary, namely: bookID, isbn13, language_code, num_pages, and the ratings information. Although the bookID would be helpful for indexing, we decided that the isbn number would be a better primary key since it is a universally recognized identifier, rather than this dataset's specific bookID indexing."
   ]
  },
  {
   "cell_type": "code",
   "execution_count": 22,
   "metadata": {
    "scrolled": true
   },
   "outputs": [
    {
     "data": {
      "text/html": [
       "<div>\n",
       "<style scoped>\n",
       "    .dataframe tbody tr th:only-of-type {\n",
       "        vertical-align: middle;\n",
       "    }\n",
       "\n",
       "    .dataframe tbody tr th {\n",
       "        vertical-align: top;\n",
       "    }\n",
       "\n",
       "    .dataframe thead th {\n",
       "        text-align: right;\n",
       "    }\n",
       "</style>\n",
       "<table border=\"1\" class=\"dataframe\">\n",
       "  <thead>\n",
       "    <tr style=\"text-align: right;\">\n",
       "      <th></th>\n",
       "      <th>title</th>\n",
       "      <th>authors</th>\n",
       "      <th>average_rating</th>\n",
       "      <th>isbn</th>\n",
       "      <th># num_pages</th>\n",
       "    </tr>\n",
       "  </thead>\n",
       "  <tbody>\n",
       "    <tr>\n",
       "      <td>0</td>\n",
       "      <td>Harry Potter and the Half-Blood Prince (Harry ...</td>\n",
       "      <td>J.K. Rowling-Mary GrandPré</td>\n",
       "      <td>4.56</td>\n",
       "      <td>0439785960</td>\n",
       "      <td>652</td>\n",
       "    </tr>\n",
       "    <tr>\n",
       "      <td>1</td>\n",
       "      <td>Harry Potter and the Order of the Phoenix (Har...</td>\n",
       "      <td>J.K. Rowling-Mary GrandPré</td>\n",
       "      <td>4.49</td>\n",
       "      <td>0439358078</td>\n",
       "      <td>870</td>\n",
       "    </tr>\n",
       "    <tr>\n",
       "      <td>2</td>\n",
       "      <td>Harry Potter and the Sorcerer's Stone (Harry P...</td>\n",
       "      <td>J.K. Rowling-Mary GrandPré</td>\n",
       "      <td>4.47</td>\n",
       "      <td>0439554934</td>\n",
       "      <td>320</td>\n",
       "    </tr>\n",
       "    <tr>\n",
       "      <td>3</td>\n",
       "      <td>Harry Potter and the Chamber of Secrets (Harry...</td>\n",
       "      <td>J.K. Rowling</td>\n",
       "      <td>4.41</td>\n",
       "      <td>0439554896</td>\n",
       "      <td>352</td>\n",
       "    </tr>\n",
       "    <tr>\n",
       "      <td>4</td>\n",
       "      <td>Harry Potter and the Prisoner of Azkaban (Harr...</td>\n",
       "      <td>J.K. Rowling-Mary GrandPré</td>\n",
       "      <td>4.55</td>\n",
       "      <td>043965548X</td>\n",
       "      <td>435</td>\n",
       "    </tr>\n",
       "  </tbody>\n",
       "</table>\n",
       "</div>"
      ],
      "text/plain": [
       "                                               title  \\\n",
       "0  Harry Potter and the Half-Blood Prince (Harry ...   \n",
       "1  Harry Potter and the Order of the Phoenix (Har...   \n",
       "2  Harry Potter and the Sorcerer's Stone (Harry P...   \n",
       "3  Harry Potter and the Chamber of Secrets (Harry...   \n",
       "4  Harry Potter and the Prisoner of Azkaban (Harr...   \n",
       "\n",
       "                      authors  average_rating        isbn  # num_pages  \n",
       "0  J.K. Rowling-Mary GrandPré            4.56  0439785960          652  \n",
       "1  J.K. Rowling-Mary GrandPré            4.49  0439358078          870  \n",
       "2  J.K. Rowling-Mary GrandPré            4.47  0439554934          320  \n",
       "3                J.K. Rowling            4.41  0439554896          352  \n",
       "4  J.K. Rowling-Mary GrandPré            4.55  043965548X          435  "
      ]
     },
     "execution_count": 22,
     "metadata": {},
     "output_type": "execute_result"
    }
   ],
   "source": [
    "# Transform the data to \n",
    "clean_books_df = bookpd_df[['title', 'authors', 'average_rating', 'isbn', '# num_pages']]\n",
    "clean_books_df.head()"
   ]
  },
  {
   "cell_type": "code",
   "execution_count": 42,
   "metadata": {},
   "outputs": [],
   "source": [
    "clean_books_df.to_csv('clean_books.csv', index=False)"
   ]
  },
  {
   "cell_type": "code",
   "execution_count": 23,
   "metadata": {},
   "outputs": [],
   "source": [
    "isbn_list = clean_books_df['isbn'].tolist()"
   ]
  },
  {
   "cell_type": "code",
   "execution_count": 24,
   "metadata": {},
   "outputs": [
    {
     "name": "stdout",
     "output_type": "stream",
     "text": [
      "['0439785960', '0439358078', '0439554934', '0439554896']\n"
     ]
    }
   ],
   "source": [
    "# Print first five items of list to check that it loaded correctly\n",
    "print(isbn_list[0:4])"
   ]
  },
  {
   "cell_type": "markdown",
   "metadata": {},
   "source": [
    "## Second Dataset: Open Library API\n",
    "Introducing our second dataset: the Open Library API. Their goal, as stated on their website (https://openlibrary.org/about), is: \"One web page for every book ever published. It's a lofty but achievable goal.\" On their site, they have created a free RESTful API to connect to all of the records on their site. The data is somewhat limited since it is publically sourced, but it is also an extensive amount of book records and can be searced by the isbn number, which is ideal for using this API with the Goodreads dataset."
   ]
  },
  {
   "cell_type": "markdown",
   "metadata": {},
   "source": [
    "#### Extraction\n",
    "Note: loading this data is fairly simple due to the ease of the API interaction, however, due to the extensive volume of the list that we are looping through the API, it takes about 5-10 minutes to complete this extraction step. In order to save time, we are looping the completed list into a new document in order to avoid having to loop through the data to extract it."
   ]
  },
  {
   "cell_type": "code",
   "execution_count": 25,
   "metadata": {},
   "outputs": [],
   "source": [
    "# Open Library \n",
    "url = 'https://openlibrary.org/api/books?'"
   ]
  },
  {
   "cell_type": "code",
   "execution_count": 26,
   "metadata": {},
   "outputs": [],
   "source": [
    "books_urls = []\n",
    "\n",
    "for isbn in isbn_list:\n",
    "\n",
    "    try: \n",
    "        query = f'{url}bibkeys=ISBN:{isbn}&format=json'\n",
    "        response = requests.get(query).json()\n",
    "        books_urls.append(response['ISBN:{}'.format(isbn)]['info_url'])\n",
    "        \n",
    "        \n",
    "    except: \n",
    "        books_urls.append('no response found')"
   ]
  },
  {
   "cell_type": "code",
   "execution_count": 28,
   "metadata": {},
   "outputs": [
    {
     "name": "stdout",
     "output_type": "stream",
     "text": [
      "['https://openlibrary.org/books/OL24280830M/Harry_Potter_and_the_Half-Blood_Prince', 'https://openlibrary.org/books/OL24330394M/Harry_Potter_and_the_Order_of_the_Phoenix', 'https://openlibrary.org/books/OL26018592M/Harry_Potter_and_the_Sorcerers_Stone', 'no response found']\n"
     ]
    }
   ],
   "source": [
    "print(books_urls[0:4])"
   ]
  },
  {
   "cell_type": "code",
   "execution_count": null,
   "metadata": {},
   "outputs": [],
   "source": [
    "# In order to save the information and avoid having to run the \n",
    "with open('books_urls.txt', 'w+') as output:\n",
    "    for book in book_urls:\n",
    "        output.write(book+'\\n')"
   ]
  },
  {
   "cell_type": "code",
   "execution_count": null,
   "metadata": {},
   "outputs": [],
   "source": [
    "# read in the files \n",
    "with open('books_urls.txt', 'r')"
   ]
  },
  {
   "cell_type": "markdown",
   "metadata": {},
   "source": [
    "#### Transform\n",
    "Our second data transformation was taking the list of Open Library urls we obtained from the API call and putting them into a different format that could eventually be loaded into a database. The list of isbn numbers that was used again to create a dictionary, with one key being isbn numbers and the other the Open Library urls. From there, we created a dataframe that was made into a csv that we could load into a database."
   ]
  },
  {
   "cell_type": "code",
   "execution_count": 78,
   "metadata": {},
   "outputs": [],
   "source": [
    "# Combine the list of isbn numbers from the Goodreads data set with the book_urls list into a dictionary\n",
    "books_dictionary=dict(zip(isbn_list,books_urls))"
   ]
  },
  {
   "cell_type": "code",
   "execution_count": 85,
   "metadata": {},
   "outputs": [
    {
     "data": {
      "text/plain": [
       "{'0439785960': 'https://openlibrary.org/books/OL24280830M/Harry_Potter_and_the_Half-Blood_Prince',\n",
       " '0439358078': 'https://openlibrary.org/books/OL24330394M/Harry_Potter_and_the_Order_of_the_Phoenix',\n",
       " '0439554934': 'https://openlibrary.org/books/OL26018592M/Harry_Potter_and_the_Sorcerers_Stone',\n",
       " '0439554896': 'no response found',\n",
       " '043965548X': 'https://openlibrary.org/books/OL27305590M/Harry_Potter_and_the_Prisoner_of_Azkaban_(Book_3)'}"
      ]
     },
     "execution_count": 85,
     "metadata": {},
     "output_type": "execute_result"
    }
   ],
   "source": [
    "# Printing the initial lines of the dictionary to ensure that it loaded correctly\n",
    "print_dictionary = dict(itertools.islice(books_dictionary.items(), 5))\n",
    "print_dictionary"
   ]
  },
  {
   "cell_type": "code",
   "execution_count": 92,
   "metadata": {
    "scrolled": false
   },
   "outputs": [
    {
     "data": {
      "text/html": [
       "<div>\n",
       "<style scoped>\n",
       "    .dataframe tbody tr th:only-of-type {\n",
       "        vertical-align: middle;\n",
       "    }\n",
       "\n",
       "    .dataframe tbody tr th {\n",
       "        vertical-align: top;\n",
       "    }\n",
       "\n",
       "    .dataframe thead th {\n",
       "        text-align: right;\n",
       "    }\n",
       "</style>\n",
       "<table border=\"1\" class=\"dataframe\">\n",
       "  <thead>\n",
       "    <tr style=\"text-align: right;\">\n",
       "      <th></th>\n",
       "      <th>isbn</th>\n",
       "      <th>library_url</th>\n",
       "    </tr>\n",
       "  </thead>\n",
       "  <tbody>\n",
       "    <tr>\n",
       "      <td>0</td>\n",
       "      <td>0439785960</td>\n",
       "      <td>https://openlibrary.org/books/OL24280830M/Harr...</td>\n",
       "    </tr>\n",
       "    <tr>\n",
       "      <td>1</td>\n",
       "      <td>0439358078</td>\n",
       "      <td>https://openlibrary.org/books/OL24330394M/Harr...</td>\n",
       "    </tr>\n",
       "  </tbody>\n",
       "</table>\n",
       "</div>"
      ],
      "text/plain": [
       "         isbn                                        library_url\n",
       "0  0439785960  https://openlibrary.org/books/OL24280830M/Harr...\n",
       "1  0439358078  https://openlibrary.org/books/OL24330394M/Harr..."
      ]
     },
     "execution_count": 92,
     "metadata": {},
     "output_type": "execute_result"
    }
   ],
   "source": [
    "books_urls_df = pd.DataFrame.from_dict(books_dictionary, orient='index').reset_index()\n",
    "books_urls_df.columns = ['isbn','library_url']\n",
    "books_urls_df.head(2)"
   ]
  },
  {
   "cell_type": "code",
   "execution_count": 91,
   "metadata": {},
   "outputs": [],
   "source": [
    "books_urls_df.to_csv('urls.csv', index=False)"
   ]
  },
  {
   "cell_type": "markdown",
   "metadata": {},
   "source": [
    "#### Loading \n",
    "The final step is to load our two data tables into a Postgres relational database. Both of the datasets we extracted and transformed were very structured. They were also chosen based on a primary key - their shared isbn index. The data was also ACID (atomicity, consistency, isolation, durability) compliant. Therefore, we chose SQL as our database. We loaded the data using Postgres by creating tables, indexed on the primary key, and then imported the data from our two csv files."
   ]
  },
  {
   "cell_type": "markdown",
   "metadata": {},
   "source": [
    "## Final Notes\n",
    "The most difficult part of the project was finding datasets that would be useful. The Goodreads csv was a great place to start, but then finding something that we could pair it with proved challenging. Scraping Amazon or another bookseller website would be ideal, since it would include the isbn number and another value of interest: book price. Automating that process and running it through a loop would be fairly tedious and challenging, however, especially since the process would need to begin again from the home page for each book. An API was a good option, but we were unable to find a reliable API that showed pricing info. The Open Library API was easy to use and still provided another source of information on top of the original csv. If someone were to search the dataset by an isbn number, they could locate the book, the information from goodreads, and likely access it in the Open Library website. From there, there is seller information and more for getting access to the text itself.\n",
    "### Potential Analysis\n",
    "Some potential analysis would be to test:  \n",
    "- how many authors there are total in the database and how many books each author has \n",
    "- how many books have an Open Library url vs. how many do not\n",
    "- the average rating of books with an Open Library url vs. the average rating of the books without an url\n",
    "- the number of books attributed to an author with an Open Library url vs. the average rating of the books attributed to an author who does not have an Open Library url"
   ]
  },
  {
   "cell_type": "code",
   "execution_count": null,
   "metadata": {},
   "outputs": [],
   "source": []
  }
 ],
 "metadata": {
  "kernelspec": {
   "display_name": "Python 3.7.4 64-bit ('anaconda3': virtualenv)",
   "language": "python",
   "name": "python37464bitanaconda3virtualenvf91fde15fee24865809b849161d4b1f9"
  },
  "language_info": {
   "codemirror_mode": {
    "name": "ipython",
    "version": 3
   },
   "file_extension": ".py",
   "mimetype": "text/x-python",
   "name": "python",
   "nbconvert_exporter": "python",
   "pygments_lexer": "ipython3",
   "version": "3.7.4"
  }
 },
 "nbformat": 4,
 "nbformat_minor": 2
}
